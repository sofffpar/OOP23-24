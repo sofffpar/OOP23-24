{
  "nbformat": 4,
  "nbformat_minor": 0,
  "metadata": {
    "colab": {
      "provenance": []
    },
    "kernelspec": {
      "name": "python3",
      "display_name": "Python 3"
    },
    "language_info": {
      "name": "python"
    }
  },
  "cells": [
    {
      "cell_type": "markdown",
      "source": [
        "В решении используется три класса:\n",
        "\n",
        "* **ProteinTranslation** для трансляции нуклеотидов в аминокислоты\n",
        "* **ProteinSequence** для представления последовательности аминокислот\n",
        "* **Protein** для представления белка и объединения двух белковых последовательностей"
      ],
      "metadata": {
        "id": "MoB4E07cKaPy"
      }
    },
    {
      "cell_type": "code",
      "execution_count": 1,
      "metadata": {
        "colab": {
          "base_uri": "https://localhost:8080/"
        },
        "id": "s7EpZcJBIxoo",
        "outputId": "8a21d216-4f64-4b05-dc26-a893d6ff1195"
      },
      "outputs": [
        {
          "output_type": "execute_result",
          "data": {
            "text/plain": [
              "['M', 'R', 'T', '_']"
            ]
          },
          "metadata": {},
          "execution_count": 1
        }
      ],
      "source": [
        "class ProteinTranslation:\n",
        "    \"\"\"\n",
        "    Класс для трансляции нуклеотидной последовательности в аминокислотную.\n",
        "    \"\"\"\n",
        "\n",
        "    # Генетический код, представляющий собой соответствие между триплетами нуклеотидов\n",
        "    # и соответствующими им аминокислотами.\n",
        "    GENETIC_CODE = {\n",
        "        'ATA':'I', 'ATC':'I', 'ATT':'I', 'ATG':'M',\n",
        "        'ACA':'T', 'ACC':'T', 'ACG':'T', 'ACT':'T',\n",
        "        'AAC':'N', 'AAT':'N', 'AAA':'K', 'AAG':'K',\n",
        "        'AGC':'S', 'AGT':'S', 'AGA':'R', 'AGG':'R',\n",
        "        'CTA':'L', 'CTC':'L', 'CTG':'L', 'CTT':'L',\n",
        "        'CCA':'P', 'CCC':'P', 'CCG':'P', 'CCT':'P',\n",
        "        'CAC':'H', 'CAT':'H', 'CAA':'Q', 'CAG':'Q',\n",
        "        'CGA':'R', 'CGC':'R', 'CGG':'R', 'CGT':'R',\n",
        "        'GTA':'V', 'GTC':'V', 'GTG':'V', 'GTT':'V',\n",
        "        'GCA':'A', 'GCC':'A', 'GCG':'A', 'GCT':'A',\n",
        "        'GAC':'D', 'GAT':'D', 'GAA':'E', 'GAG':'E',\n",
        "        'GGA':'G', 'GGC':'G', 'GGG':'G', 'GGT':'G',\n",
        "        'TCA':'S', 'TCC':'S', 'TCG':'S', 'TCT':'S',\n",
        "        'TTC':'F', 'TTT':'F', 'TTA':'L', 'TTG':'L',\n",
        "        'TAC':'Y', 'TAT':'Y', 'TAA':'_', 'TAG':'_',\n",
        "        'TGC':'C', 'TGT':'C', 'TGA':'_', 'TGG':'W',\n",
        "    }\n",
        "\n",
        "    @classmethod\n",
        "    def translate(cls, nucleotide_sequence):\n",
        "        \"\"\"Транслирует последовательность нуклеотидов в аминокислотную последовательность.\"\"\"\n",
        "        protein_sequence = []\n",
        "\n",
        "        # Перебираем каждые три нуклеотида (кодон) в последовательности\n",
        "        for i in range(0, len(nucleotide_sequence), 3):\n",
        "            codon = nucleotide_sequence[i:i+3]\n",
        "\n",
        "            # Получаем аминокислоту, соответствующую текущему кодону, или 'X', если кодон не опознан\n",
        "            protein_sequence.append(cls.GENETIC_CODE.get(codon, 'X'))\n",
        "\n",
        "        return protein_sequence\n",
        "\n",
        "# Проверка\n",
        "test_sequence = \"ATGCGAACTTGA\"\n",
        "ProteinTranslation.translate(test_sequence)"
      ]
    },
    {
      "cell_type": "code",
      "source": [
        "class ProteinSequence:\n",
        "    def __init__(self, sequence):\n",
        "        \"\"\"Инициализирует белковую последовательность либо из нуклеотидов, либо из аминокислот.\"\"\"\n",
        "        if all(nucleotide in 'ATCG' for nucleotide in sequence):\n",
        "            self.sequence = ProteinTranslation.translate(sequence)\n",
        "        else:\n",
        "            self.sequence = list(sequence)\n",
        "\n",
        "    def __str__(self):\n",
        "        \"\"\"\n",
        "        Возвращает строковое представление белковой последовательности.\n",
        "        \"\"\"\n",
        "        return \"\".join(self.sequence)\n",
        "\n",
        "# Проверка\n",
        "protein_from_nucleotides = ProteinSequence(\"ATGCGAACTTGA\")\n",
        "protein_from_amino_acids = ProteinSequence(\"MRT_\")\n",
        "str(protein_from_nucleotides), str(protein_from_amino_acids)"
      ],
      "metadata": {
        "colab": {
          "base_uri": "https://localhost:8080/"
        },
        "id": "NTDdV856JkQ0",
        "outputId": "c4f00b1d-99f8-4e58-e27c-7ca88022cc3b"
      },
      "execution_count": 2,
      "outputs": [
        {
          "output_type": "execute_result",
          "data": {
            "text/plain": [
              "('MRT_', 'MRT_')"
            ]
          },
          "metadata": {},
          "execution_count": 2
        }
      ]
    },
    {
      "cell_type": "markdown",
      "source": [
        "Можно заметить, что класс может инициализироваться как из последовательности нуклеотидов, так и из последовательности аминокислот."
      ],
      "metadata": {
        "id": "su4Z4fDnKTPf"
      }
    },
    {
      "cell_type": "code",
      "source": [
        "class Protein:\n",
        "    def __init__(self, sequence):\n",
        "        \"\"\"Инициализирует белковую последовательность.\"\"\"\n",
        "        self.sequence = ProteinSequence(sequence).sequence\n",
        "\n",
        "    def __add__(self, other):\n",
        "        \"\"\"Объединяет две белковые последовательности.\"\"\"\n",
        "        overlap_length = 0\n",
        "        min_length = min(len(self.sequence), len(other.sequence))\n",
        "\n",
        "        # Поиск максимального пересечения между двумя последовательностями\n",
        "        for i in range(1, min_length + 1):\n",
        "            if self.sequence[-i:] == other.sequence[:i]:\n",
        "                overlap_length = i\n",
        "\n",
        "        # Возвращение новой последовательности, объединяющей обе последовательности\n",
        "        # с учетом найденного пересечения\n",
        "        return Protein(\"\".join(self.sequence + other.sequence[overlap_length:]))\n",
        "\n",
        "\n",
        "    def __str__(self):\n",
        "        \"\"\"\n",
        "        Возвращает строковое представление белковой последовательности.\n",
        "        \"\"\"\n",
        "        return \"\".join(self.sequence)\n",
        "\n",
        "# Проверка\n",
        "protein1 = Protein(\"MRT\")\n",
        "protein2 = Protein(\"RT_\")\n",
        "combined_protein = protein1 + protein2\n",
        "str(combined_protein)\n"
      ],
      "metadata": {
        "colab": {
          "base_uri": "https://localhost:8080/",
          "height": 36
        },
        "id": "r2nztzPJJlYt",
        "outputId": "8f15fbdd-4066-4dbd-ed85-77962f19a391"
      },
      "execution_count": 3,
      "outputs": [
        {
          "output_type": "execute_result",
          "data": {
            "text/plain": [
              "'MRT_'"
            ],
            "application/vnd.google.colaboratory.intrinsic+json": {
              "type": "string"
            }
          },
          "metadata": {},
          "execution_count": 3
        }
      ]
    },
    {
      "cell_type": "markdown",
      "source": [
        "Пример объединения двух белковых последовательностей, которые имеют пересечения:"
      ],
      "metadata": {
        "id": "JG9OLzFILHCA"
      }
    },
    {
      "cell_type": "code",
      "source": [
        "# Создание двух белковых последовательностей\n",
        "proteinA = Protein(\"ABCDEF\")\n",
        "proteinB = Protein(\"DEFGHI\")\n",
        "\n",
        "# Объединение двух последовательностей\n",
        "combined_protein_example = proteinA + proteinB\n",
        "str(combined_protein_example)"
      ],
      "metadata": {
        "id": "2_JvSOLyKl3A",
        "colab": {
          "base_uri": "https://localhost:8080/",
          "height": 36
        },
        "outputId": "e0823186-aa11-45e9-f41c-da23ec0fb0d6"
      },
      "execution_count": 4,
      "outputs": [
        {
          "output_type": "execute_result",
          "data": {
            "text/plain": [
              "'ABCDEFGHI'"
            ],
            "application/vnd.google.colaboratory.intrinsic+json": {
              "type": "string"
            }
          },
          "metadata": {},
          "execution_count": 4
        }
      ]
    },
    {
      "cell_type": "markdown",
      "source": [
        "Как видите, две последовательности \"ABCDEF\" и \"DEFGHI\" успешно объединились в одну последовательность \"ABCDEFGHI\", при этом участок \"DEF\" был объединен, так как он присутствует в конце первой последовательности и в начале второй.\n",
        "\n",
        "Таким образом, класс **Protein** умеет объединять две белковые последовательности по их пересекающимся участкам."
      ],
      "metadata": {
        "id": "TopHGBCbLJRJ"
      }
    }
  ]
}