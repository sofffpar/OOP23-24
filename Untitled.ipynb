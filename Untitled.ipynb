{
  "metadata": {
    "language_info": {
      "codemirror_mode": {
        "name": "python",
        "version": 3
      },
      "file_extension": ".py",
      "mimetype": "text/x-python",
      "name": "python",
      "nbconvert_exporter": "python",
      "pygments_lexer": "ipython3",
      "version": "3.8"
    },
    "kernelspec": {
      "name": "python",
      "display_name": "Python (Pyodide)",
      "language": "python"
    }
  },
  "nbformat_minor": 4,
  "nbformat": 4,
  "cells": [
    {
      "cell_type": "code",
      "source": "class ProteinTranslation:\n# Класс для трансляции нуклеотидной последовательности в аминокислотную\n\n    # Cоответствие между триплетами нуклеотидов и соответствующими им аминокислотами\n    GENETIC_CODE = {'ATA':'I', 'ATC':'I', 'ATT':'I', 'ATG':'M',\n        'ACA':'T', 'ACC':'T', 'ACG':'T', 'ACT':'T',\n        'AAC':'N', 'AAT':'N', 'AAA':'K', 'AAG':'K',\n        'AGC':'S', 'AGT':'S', 'AGA':'R', 'AGG':'R',\n        'CTA':'L', 'CTC':'L', 'CTG':'L', 'CTT':'L',\n        'CCA':'P', 'CCC':'P', 'CCG':'P', 'CCT':'P',\n        'CAC':'H', 'CAT':'H', 'CAA':'Q', 'CAG':'Q',\n        'CGA':'R', 'CGC':'R', 'CGG':'R', 'CGT':'R',\n        'GTA':'V', 'GTC':'V', 'GTG':'V', 'GTT':'V',\n        'GCA':'A', 'GCC':'A', 'GCG':'A', 'GCT':'A',\n        'GAC':'D', 'GAT':'D', 'GAA':'E', 'GAG':'E',\n        'GGA':'G', 'GGC':'G', 'GGG':'G', 'GGT':'G',\n        'TCA':'S', 'TCC':'S', 'TCG':'S', 'TCT':'S',\n        'TTC':'F', 'TTT':'F', 'TTA':'L', 'TTG':'L',\n        'TAC':'Y', 'TAT':'Y', 'TAA':'_', 'TAG':'_',\n        'TGC':'C', 'TGT':'C', 'TGA':'_', 'TGG':'W',}\n\n    @classmethod\n    def translate(cls, nucleotide_sequence):\n        # Транслирует последовательность нуклеотидов в аминокислотную последовательность\n        protein_sequence = []\n\n        # Перебираем каждые три нуклеотида (кодон) в последовательности\n        for i in range(0, len(nucleotide_sequence), 3):\n            codon = nucleotide_sequence[i:i+3]\n\n            # Получаем аминокислоту, соответствующую текущему кодону, или 'X', если кодон не опознан\n            protein_sequence.append(cls.GENETIC_CODE.get(codon, 'X'))\n\n        return protein_sequence\n\n# Проверка\ntest_sequence = \"AAACCCTTTGGG\"\nProteinTranslation.translate(test_sequence)",
      "metadata": {
        "trusted": true
      },
      "execution_count": 58,
      "outputs": [
        {
          "execution_count": 56,
          "output_type": "execute_result",
          "data": {
            "text/plain": "['K', 'P', 'F', 'G']"
          },
          "metadata": {}
        }
      ]
    },
    {
      "cell_type": "code",
      "source": "class ProteinSequence(ProteinTranslation):\n# Тут не очень поняла, что нужно. Если хотелось, чтобы класс сам определял: нуклеотиды ему дали или аминокислоты,\n# и в зависимости от этого делал с ними разное - у меня не получилось придумать, как разобраться с одинаковыми буквами в нуклеотидах и аминокислотах(\n# GAGAGG может быть и тем, и другим.\n# Сделала в итоге класс, который создает аминокислотные последовательности из аминокислот и нуклеотидов двумя разными методами\n    def __init__(self, *args):\n        self.result = \"\".join(map(str, args))\n\n    def protein_from_amino_acids(self):\n        return self.result\n    \n    def protein_from_nucleotides(self):\n        self = ProteinTranslation.translate(self.result)\n        return \"\".join(self)\n    \nA = ProteinSequence(\"GA\", \"GA\", \"GA\")\nB = ProteinSequence(\"CCC\", \"GGG\", \"TTT\")\nProteinSequence.protein_from_nucleotides(B), ProteinSequence.protein_from_amino_acids(A)",
      "metadata": {
        "trusted": true
      },
      "execution_count": 59,
      "outputs": [
        {
          "execution_count": 57,
          "output_type": "execute_result",
          "data": {
            "text/plain": "('PGF', 'GAGAGA')"
          },
          "metadata": {}
        }
      ]
    },
    {
      "cell_type": "code",
      "source": "class Protein:\n    def __init__(self):\n        self.sequences = []\n\n    def add_protein(self, sequence):\n        if not self.sequences:\n            self.sequences.append(sequence)\n        else:\n            last_sequence = self.sequences[-1]\n            overlap = self.find_overlap(last_sequence, sequence)\n            if overlap:\n                self.sequences[-1] += sequence[overlap:]\n            else:\n                self.sequences.append(sequence)\n\n    def find_overlap(self, sequence1, sequence2):\n        max_overlap = min(len(sequence1), len(sequence2))\n        for i in range(1, max_overlap + 1):\n            if sequence1[-i:] == sequence2[:i]:\n                return i\n        return 0\n\n    def get_protein(self):\n        return self.sequences\n\n# Пример использования\nbelok = Protein()\nbelok.add_protein(\"abcdef\")\nbelok.add_protein(\"efghij\")\nbelok.add_protein(\"ijklmn\")\nbelok_sequences = belok.get_protein()\nprint(belok_sequences)\n",
      "metadata": {
        "trusted": true
      },
      "execution_count": 69,
      "outputs": [
        {
          "name": "stdout",
          "text": "['abcdefghijklmn']\n",
          "output_type": "stream"
        }
      ]
    },
    {
      "cell_type": "code",
      "source": "",
      "metadata": {},
      "execution_count": null,
      "outputs": []
    },
    {
      "cell_type": "code",
      "source": "",
      "metadata": {},
      "execution_count": null,
      "outputs": []
    }
  ]
}