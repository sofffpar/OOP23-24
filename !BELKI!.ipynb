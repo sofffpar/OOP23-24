{
 "cells": [
  {
   "cell_type": "markdown",
   "metadata": {},
   "source": [
    "Задача 5. \n",
    "Сотрудники института биоинформатики хотят восстановить первичную структуру белка, для чего требуется объединить его (частично пересекающиеся) фрагменты. Требуется написать программу, которая хранит белковые последовательности (в виде списков аминокислот) и умеет их объединять, если аминокислоты в конце одной последовательности совпадут с аминокислотами в начале другой.\n",
    "<ol>\n",
    "  <li>Класс трансляции протеиногенной аминокислоты, умеющий синтезировать ее по хранимому коду из последовательно поступающих нуклеотидов, закодированных при помощи однобуквенных обозначений.</li>\n",
    "  <li>Класс белковой последовательности, умеющий синтезировать последовательность из нуклеотидов и других аминокислот.</li>\n",
    "  <li>Белок (последовательность аминокислот); операция сложения, возвращающая результат сложения (с пересечением) двух белков.</li>\n",
    "</ol>"
   ]
  },
  {
   "cell_type": "markdown",
   "metadata": {},
   "source": [
    "В решении используется три класса:\n",
    "\n",
    "* **ProteinTranslation** для трансляции нуклеотидов в аминокислоты\n",
    "* **ProteinSequence** для создания последовательности аминокислот из аминокислот или нуклеотидов\n",
    "* **Protein** для объединения белковых последовательностей из аминокислот или нуклеотидов"
   ]
  },
  {
   "cell_type": "code",
   "execution_count": 3,
   "metadata": {},
   "outputs": [
    {
     "name": "stdin",
     "output_type": "stream",
     "text": [
      "Введите последовательность нуклеотидов:  AAACCCBBB\n"
     ]
    },
    {
     "name": "stdout",
     "output_type": "stream",
     "text": [
      "Полученная последовательность:  KPX\n"
     ]
    }
   ],
   "source": [
    "class ProteinTranslation:\n",
    "# Класс для трансляции нуклеотидной последовательности в аминокислотную\n",
    "\n",
    "    # Cоответствие между триплетами нуклеотидов и соответствующими им аминокислотами\n",
    "    GENETIC_CODE = {\n",
    "        'ATA': 'I', 'ATC': 'I', 'ATT': 'I', 'ATG': 'M',\n",
    "        'ACA': 'T', 'ACC': 'T', 'ACG': 'T', 'ACT': 'T',\n",
    "        'AAC': 'N', 'AAT': 'N', 'AAA': 'K', 'AAG': 'K',\n",
    "        'AGC': 'S', 'AGT': 'S', 'AGA': 'R', 'AGG': 'R',\n",
    "        'CTA': 'L', 'CTC': 'L', 'CTG': 'L', 'CTT': 'L',\n",
    "        'CCA': 'P', 'CCC': 'P', 'CCG': 'P', 'CCT': 'P',\n",
    "        'CAC': 'H', 'CAT': 'H', 'CAA': 'Q', 'CAG': 'Q',\n",
    "        'CGA': 'R', 'CGC': 'R', 'CGG': 'R', 'CGT': 'R',\n",
    "        'GTA': 'V', 'GTC': 'V', 'GTG': 'V', 'GTT': 'V',\n",
    "        'GCA': 'A', 'GCC': 'A', 'GCG': 'A', 'GCT': 'A',\n",
    "        'GAC': 'D', 'GAT': 'D', 'GAA': 'E', 'GAG': 'E',\n",
    "        'GGA': 'G', 'GGC': 'G', 'GGG': 'G', 'GGT': 'G',\n",
    "        'TCA': 'S', 'TCC': 'S', 'TCG': 'S', 'TCT': 'S',\n",
    "        'TTC': 'F', 'TTT': 'F', 'TTA': 'L', 'TTG': 'L',\n",
    "        'TAC': 'Y', 'TAT': 'Y', 'TAA': '_', 'TAG': '_',\n",
    "        'TGC': 'C', 'TGT': 'C', 'TGA': '_', 'TGG': 'W', }\n",
    "\n",
    "    @classmethod\n",
    "    def translate(cls, nucleotide_sequence):\n",
    "    # Транслирует последовательность нуклеотидов в аминокислотную последовательность\n",
    "        protein_sequence = \"\"\n",
    "        \n",
    "        # Перебирает каждые три нуклеотида (кодон) в последовательности\n",
    "        for i in range(0, len(nucleotide_sequence), 3):\n",
    "            codon = nucleotide_sequence[i:i+3]\n",
    "            # Получает аминокислоту, соответствующую текущему кодону, или 'X', если кодон не опознан\n",
    "            amino_acid = cls.GENETIC_CODE.get(codon, 'X')\n",
    "            protein_sequence += amino_acid\n",
    "\n",
    "        return protein_sequence\n",
    "# Пример \n",
    "test_sequence = \"AAACCCTTTGGG\"\n",
    "ProteinTranslation.translate(test_sequence)\n",
    "\n",
    "# # На случай инпута\n",
    "# text = input(\"Введите последовательность нуклеотидов: \")\n",
    "# print(\"Полученная последовательность аминокислот: \", ProteinTranslation.translate(text))"
   ]
  },
  {
   "cell_type": "code",
   "execution_count": 13,
   "metadata": {},
   "outputs": [
    {
     "name": "stdout",
     "output_type": "stream",
     "text": [
      "GAGAGA\n",
      "PGF\n"
     ]
    },
    {
     "name": "stdin",
     "output_type": "stream",
     "text": [
      "Если вы хотите создать белковую последовательность из аминокислот - введите '1', из нуклеотидов - '2':  2\n",
      "Введите последовательности нуклеотидов (кратные 3). Введите пустую строку для завершения:  CCC\n",
      "Введите последовательности нуклеотидов (кратные 3). Введите пустую строку для завершения:  GGG\n",
      "Введите последовательности нуклеотидов (кратные 3). Введите пустую строку для завершения:  AAA\n",
      "Введите последовательности нуклеотидов (кратные 3). Введите пустую строку для завершения:  TTT\n",
      "Введите последовательности нуклеотидов (кратные 3). Введите пустую строку для завершения:  \n"
     ]
    },
    {
     "name": "stdout",
     "output_type": "stream",
     "text": [
      "Полученная последовательность аминокислот:  PGKF\n"
     ]
    }
   ],
   "source": [
    "class ProteinSequence(ProteinTranslation):\n",
    "# Тут не очень поняла, что нужно. Если хотелось, чтобы класс сам определял: нуклеотиды ему дали или аминокислоты,\n",
    "# и в зависимости от этого делал с ними разное - у меня не получилось придумать, как разобраться с одинаковыми буквами(\n",
    "# GAGAGG может быть и нуклеотидами, и аминокислотами.\n",
    "# Сделала в итоге класс, который создает аминокислотные последовательности из аминокислот и нуклеотидов двумя разными методами по выбору пользователя.\n",
    "    def __init__(self):\n",
    "        self.result = \"\"\n",
    "\n",
    "    def protein_from_amino_acids(self, *args):\n",
    "        self.result = \"\".join(args)\n",
    "        return self.result\n",
    "\n",
    "    def protein_from_nucleotides(self, *args):\n",
    "        self.result = \"\".join(args)\n",
    "        self.result = ProteinTranslation.translate(self.result)\n",
    "        return self.result\n",
    "\n",
    "# Пример     \n",
    "belok1 = ProteinSequence()\n",
    "belok2 = ProteinSequence()\n",
    "print(belok1.protein_from_amino_acids(\"GA\", \"GA\", \"GA\"))\n",
    "print(belok2.protein_from_nucleotides(\"CCC\", \"GGG\", \"TTT\"))\n",
    "\n",
    "# # На случай инпута\n",
    "# method = int(input(\"Если вы хотите создать белковую последовательность из аминокислот - введите '1', из нуклеотидов - '2': \"))\n",
    "# if method == 1:\n",
    "#     lines = []\n",
    "#     while True:\n",
    "#         line = input(\"Введите последовательности аминокислот.  Введите пустую строку для завершения: \")\n",
    "#         if line == \"\":\n",
    "#             break\n",
    "#         lines.append(line)\n",
    "#     protein_sequence = ProteinSequence()\n",
    "#     result = protein_sequence.protein_from_amino_acids(*lines)\n",
    "#     print(\"Полученная последовательность аминокислот: \", result)\n",
    "# else:\n",
    "#     lines = []\n",
    "#     while True:\n",
    "#         line = input(\"Введите последовательности нуклеотидов (кратные 3). Введите пустую строку для завершения: \")\n",
    "#         if line == \"\":\n",
    "#             break\n",
    "#         lines.append(line)\n",
    "#     protein_sequence = ProteinSequence()\n",
    "#     result = protein_sequence.protein_from_nucleotides(*lines)\n",
    "#     print(\"Полученная последовательность аминокислот: \", result)"
   ]
  },
  {
   "cell_type": "code",
   "execution_count": 16,
   "metadata": {},
   "outputs": [
    {
     "name": "stdout",
     "output_type": "stream",
     "text": [
      "ABCDFGHJJJGGGG\n",
      "KPGKP\n"
     ]
    }
   ],
   "source": [
    "class CombinedProtein(ProteinTranslation):\n",
    "# Класс для объединения последовательностей нуклеотидов и аминокислот, учитывая пересечения конечных и начальных частей.\n",
    "    def __init__(self):\n",
    "        self.result = \"\"\n",
    "    \n",
    "    def combine_from_amino_acids(self, *args):\n",
    "        for arg in args:\n",
    "            if not isinstance(arg, str):\n",
    "                raise ValueError(\"Аргументы должны быть строками\")\n",
    "            self.result = self.common_part(self.result, arg)\n",
    "            \n",
    "    def combine_from_nucleotides(self, *args):\n",
    "        for arg in args:\n",
    "            if not isinstance(arg, str):\n",
    "                raise ValueError(\"Аргументы должны быть строками\")\n",
    "            arg = ProteinTranslation.translate(arg)\n",
    "            self.result = self.common_part(self.result, arg)\n",
    "\n",
    "    def common_part(self, str1, str2):\n",
    "        max_overlap = 0\n",
    "        for i in range(1, min(len(str1), len(str2)) + 1):\n",
    "            if str1[-i:] == str2[:i]:\n",
    "                max_overlap = i\n",
    "        return str1 + str2[max_overlap:] \n",
    "\n",
    "    def get_result_CombinedProtein(self):\n",
    "        return self.result\n",
    "\n",
    "\n",
    "# Пример\n",
    "belok3 = CombinedProtein()\n",
    "belok3.combine_from_amino_acids(\"ABCD\", \"DFGH\", \"FGHJJJ\")\n",
    "belok3.combine_from_amino_acids(\"JJ\", \"GGGG\")\n",
    "result3 = belok3.get_result_CombinedProtein()\n",
    "print(result3)  \n",
    "\n",
    "belok4 = CombinedProtein()\n",
    "belok4.combine_from_nucleotides(\"AAACCC\", \"CCCGGG\", \"AAA\")\n",
    "belok4.combine_from_nucleotides(\"CCC\", \"CCC\")\n",
    "result4 = belok4.get_result_CombinedProtein()\n",
    "print(result4)  \n",
    "\n",
    "# # На случай инпута\n",
    "# method = int(input(\"Если вы хотите соединить белковые последовательности из аминокислот - введите '1', из нуклеотидов - '2': \"))\n",
    "# if method == 1:\n",
    "#     lines = []\n",
    "#     while True:\n",
    "#         line = input(\"Введите последовательности аминокислот. Введите пустую строку для завершения: \")\n",
    "#         if line == \"\":\n",
    "#             break\n",
    "#         lines.append(line)\n",
    "#     combined_protein = CombinedProtein()\n",
    "#     combined_protein.combine_from_amino_acids(*lines)\n",
    "#     result = combined_protein.get_result_CombinedProtein()\n",
    "#     print(\"Полученная последовательность аминокислот: \", result)\n",
    "# else:\n",
    "#     lines = []\n",
    "#     while True:\n",
    "#         line = input(\"Введите последовательности нуклеотидов (кратные 3). Введите пустую строку для завершения: \")\n",
    "#         if line == \"\":\n",
    "#             break\n",
    "#         lines.append(line)\n",
    "#     combined_protein = CombinedProtein()\n",
    "#     combined_protein.combine_from_nucleotides(*lines)\n",
    "#     result = combined_protein.get_result_CombinedProtein()\n",
    "#     print(\"Полученная последовательность аминокислот: \", result)"
   ]
  },
  {
   "cell_type": "code",
   "execution_count": null,
   "metadata": {},
   "outputs": [],
   "source": []
  }
 ],
 "metadata": {
  "kernelspec": {
   "display_name": "Python 3 (ipykernel)",
   "language": "python",
   "name": "python3"
  },
  "language_info": {
   "codemirror_mode": {
    "name": "ipython",
    "version": 3
   },
   "file_extension": ".py",
   "mimetype": "text/x-python",
   "name": "python",
   "nbconvert_exporter": "python",
   "pygments_lexer": "ipython3",
   "version": "3.11.4"
  }
 },
 "nbformat": 4,
 "nbformat_minor": 4
}
